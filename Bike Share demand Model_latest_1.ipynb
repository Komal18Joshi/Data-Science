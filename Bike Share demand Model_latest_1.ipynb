{
 "cells": [
  {
   "cell_type": "markdown",
   "metadata": {},
   "source": []
  },
  {
   "cell_type": "code",
   "execution_count": 1,
   "metadata": {},
   "outputs": [
    {
     "name": "stdout",
     "output_type": "stream",
     "text": [
      "Populating the interactive namespace from numpy and matplotlib\n"
     ]
    }
   ],
   "source": [
    "%pylab inline\n",
    "import pandas as pd\n",
    "import seaborn\n",
    "import matplotlib.pyplot as plt\n",
    "plt.style.use('ggplot')\n",
    "dataq1 = pd.read_csv('2017Q1-capitalbikeshare-tripdata.csv')\n",
    "dataq2 = pd.read_csv('2017Q2-capitalbikeshare-tripdata.csv')\n",
    "dataq3 = pd.read_csv('2017Q3-capitalbikeshare-tripdata.csv')\n",
    "dataq4 = pd.read_csv('2017Q4-capitalbikeshare-tripdata.csv')"
   ]
  },
  {
   "cell_type": "code",
   "execution_count": 2,
   "metadata": {},
   "outputs": [],
   "source": [
    "data_conc = pd.concat([dataq1, dataq2, dataq3, dataq4], ignore_index=True)"
   ]
  },
  {
   "cell_type": "code",
   "execution_count": 3,
   "metadata": {},
   "outputs": [],
   "source": [
    "df = pd.DataFrame(data_conc)"
   ]
  },
  {
   "cell_type": "code",
   "execution_count": 4,
   "metadata": {
    "scrolled": true
   },
   "outputs": [
    {
     "data": {
      "text/html": [
       "<div>\n",
       "<style scoped>\n",
       "    .dataframe tbody tr th:only-of-type {\n",
       "        vertical-align: middle;\n",
       "    }\n",
       "\n",
       "    .dataframe tbody tr th {\n",
       "        vertical-align: top;\n",
       "    }\n",
       "\n",
       "    .dataframe thead th {\n",
       "        text-align: right;\n",
       "    }\n",
       "</style>\n",
       "<table border=\"1\" class=\"dataframe\">\n",
       "  <thead>\n",
       "    <tr style=\"text-align: right;\">\n",
       "      <th></th>\n",
       "      <th>Duration</th>\n",
       "      <th>Startdate</th>\n",
       "      <th>Hour</th>\n",
       "      <th>Enddate</th>\n",
       "      <th>Day</th>\n",
       "      <th>Season</th>\n",
       "      <th>Startstationnumber</th>\n",
       "      <th>Startstation</th>\n",
       "      <th>Endstationnumber</th>\n",
       "      <th>Endstation</th>\n",
       "      <th>Bikenumber</th>\n",
       "      <th>Membertype</th>\n",
       "    </tr>\n",
       "  </thead>\n",
       "  <tbody>\n",
       "    <tr>\n",
       "      <th>0</th>\n",
       "      <td>221</td>\n",
       "      <td>1/1/2017 0:00</td>\n",
       "      <td>0</td>\n",
       "      <td>1/1/2017 0:04</td>\n",
       "      <td>Sunday</td>\n",
       "      <td>Spring</td>\n",
       "      <td>31634</td>\n",
       "      <td>3rd &amp; Tingey St SE</td>\n",
       "      <td>31208</td>\n",
       "      <td>M St &amp; New Jersey Ave SE</td>\n",
       "      <td>W00869</td>\n",
       "      <td>Member</td>\n",
       "    </tr>\n",
       "    <tr>\n",
       "      <th>1</th>\n",
       "      <td>1676</td>\n",
       "      <td>1/1/2017 0:06</td>\n",
       "      <td>0</td>\n",
       "      <td>1/1/2017 0:34</td>\n",
       "      <td>Sunday</td>\n",
       "      <td>Spring</td>\n",
       "      <td>31258</td>\n",
       "      <td>Lincoln Memorial</td>\n",
       "      <td>31270</td>\n",
       "      <td>8th &amp; D St NW</td>\n",
       "      <td>W00894</td>\n",
       "      <td>Casual</td>\n",
       "    </tr>\n",
       "    <tr>\n",
       "      <th>2</th>\n",
       "      <td>1356</td>\n",
       "      <td>1/1/2017 0:07</td>\n",
       "      <td>0</td>\n",
       "      <td>1/1/2017 0:29</td>\n",
       "      <td>Sunday</td>\n",
       "      <td>Spring</td>\n",
       "      <td>31289</td>\n",
       "      <td>Henry Bacon Dr &amp; Lincoln Memorial Circle NW</td>\n",
       "      <td>31222</td>\n",
       "      <td>New York Ave &amp; 15th St NW</td>\n",
       "      <td>W21945</td>\n",
       "      <td>Casual</td>\n",
       "    </tr>\n",
       "    <tr>\n",
       "      <th>3</th>\n",
       "      <td>1327</td>\n",
       "      <td>1/1/2017 0:07</td>\n",
       "      <td>0</td>\n",
       "      <td>1/1/2017 0:29</td>\n",
       "      <td>Sunday</td>\n",
       "      <td>Spring</td>\n",
       "      <td>31289</td>\n",
       "      <td>Henry Bacon Dr &amp; Lincoln Memorial Circle NW</td>\n",
       "      <td>31222</td>\n",
       "      <td>New York Ave &amp; 15th St NW</td>\n",
       "      <td>W20012</td>\n",
       "      <td>Casual</td>\n",
       "    </tr>\n",
       "    <tr>\n",
       "      <th>4</th>\n",
       "      <td>1636</td>\n",
       "      <td>1/1/2017 0:07</td>\n",
       "      <td>0</td>\n",
       "      <td>1/1/2017 0:34</td>\n",
       "      <td>Sunday</td>\n",
       "      <td>Spring</td>\n",
       "      <td>31258</td>\n",
       "      <td>Lincoln Memorial</td>\n",
       "      <td>31270</td>\n",
       "      <td>8th &amp; D St NW</td>\n",
       "      <td>W22786</td>\n",
       "      <td>Casual</td>\n",
       "    </tr>\n",
       "  </tbody>\n",
       "</table>\n",
       "</div>"
      ],
      "text/plain": [
       "   Duration      Startdate  Hour        Enddate     Day  Season  \\\n",
       "0       221  1/1/2017 0:00     0  1/1/2017 0:04  Sunday  Spring   \n",
       "1      1676  1/1/2017 0:06     0  1/1/2017 0:34  Sunday  Spring   \n",
       "2      1356  1/1/2017 0:07     0  1/1/2017 0:29  Sunday  Spring   \n",
       "3      1327  1/1/2017 0:07     0  1/1/2017 0:29  Sunday  Spring   \n",
       "4      1636  1/1/2017 0:07     0  1/1/2017 0:34  Sunday  Spring   \n",
       "\n",
       "   Startstationnumber                                 Startstation  \\\n",
       "0               31634                           3rd & Tingey St SE   \n",
       "1               31258                             Lincoln Memorial   \n",
       "2               31289  Henry Bacon Dr & Lincoln Memorial Circle NW   \n",
       "3               31289  Henry Bacon Dr & Lincoln Memorial Circle NW   \n",
       "4               31258                             Lincoln Memorial   \n",
       "\n",
       "   Endstationnumber                 Endstation Bikenumber Membertype  \n",
       "0             31208   M St & New Jersey Ave SE     W00869     Member  \n",
       "1             31270              8th & D St NW     W00894     Casual  \n",
       "2             31222  New York Ave & 15th St NW     W21945     Casual  \n",
       "3             31222  New York Ave & 15th St NW     W20012     Casual  \n",
       "4             31270              8th & D St NW     W22786     Casual  "
      ]
     },
     "execution_count": 4,
     "metadata": {},
     "output_type": "execute_result"
    }
   ],
   "source": [
    "df.head()"
   ]
  },
  {
   "cell_type": "code",
   "execution_count": 5,
   "metadata": {},
   "outputs": [
    {
     "data": {
      "text/plain": [
       "(3558924, 12)"
      ]
     },
     "execution_count": 5,
     "metadata": {},
     "output_type": "execute_result"
    }
   ],
   "source": [
    "df.shape"
   ]
  },
  {
   "cell_type": "code",
   "execution_count": 6,
   "metadata": {},
   "outputs": [
    {
     "name": "stdout",
     "output_type": "stream",
     "text": [
      "<class 'pandas.core.frame.DataFrame'>\n",
      "RangeIndex: 3558924 entries, 0 to 3558923\n",
      "Data columns (total 12 columns):\n",
      "Duration              int64\n",
      "Startdate             object\n",
      "Hour                  int64\n",
      "Enddate               object\n",
      "Day                   object\n",
      "Season                object\n",
      "Startstationnumber    int64\n",
      "Startstation          object\n",
      "Endstationnumber      int64\n",
      "Endstation            object\n",
      "Bikenumber            object\n",
      "Membertype            object\n",
      "dtypes: int64(4), object(8)\n",
      "memory usage: 325.8+ MB\n"
     ]
    }
   ],
   "source": [
    "df.info()"
   ]
  },
  {
   "cell_type": "code",
   "execution_count": 7,
   "metadata": {},
   "outputs": [
    {
     "data": {
      "text/plain": [
       "Duration              0\n",
       "Startdate             0\n",
       "Hour                  0\n",
       "Enddate               0\n",
       "Day                   0\n",
       "Season                0\n",
       "Startstationnumber    0\n",
       "Startstation          0\n",
       "Endstationnumber      0\n",
       "Endstation            0\n",
       "Bikenumber            0\n",
       "Membertype            0\n",
       "dtype: int64"
      ]
     },
     "execution_count": 7,
     "metadata": {},
     "output_type": "execute_result"
    }
   ],
   "source": [
    "df.isnull().sum()"
   ]
  },
  {
   "cell_type": "code",
   "execution_count": null,
   "metadata": {},
   "outputs": [],
   "source": []
  },
  {
   "cell_type": "code",
   "execution_count": 13,
   "metadata": {},
   "outputs": [],
   "source": [
    "df1 = pd.DataFrame(df.groupby(['Hour','Season','Day','Membertype']).count()['Duration']).reset_index()"
   ]
  },
  {
   "cell_type": "code",
   "execution_count": 14,
   "metadata": {},
   "outputs": [
    {
     "data": {
      "text/html": [
       "<div>\n",
       "<style scoped>\n",
       "    .dataframe tbody tr th:only-of-type {\n",
       "        vertical-align: middle;\n",
       "    }\n",
       "\n",
       "    .dataframe tbody tr th {\n",
       "        vertical-align: top;\n",
       "    }\n",
       "\n",
       "    .dataframe thead th {\n",
       "        text-align: right;\n",
       "    }\n",
       "</style>\n",
       "<table border=\"1\" class=\"dataframe\">\n",
       "  <thead>\n",
       "    <tr style=\"text-align: right;\">\n",
       "      <th></th>\n",
       "      <th>Hour</th>\n",
       "      <th>Season</th>\n",
       "      <th>Day</th>\n",
       "      <th>Membertype</th>\n",
       "      <th>Duration</th>\n",
       "    </tr>\n",
       "  </thead>\n",
       "  <tbody>\n",
       "    <tr>\n",
       "      <th>0</th>\n",
       "      <td>0</td>\n",
       "      <td>Fall</td>\n",
       "      <td>Friday</td>\n",
       "      <td>Casual</td>\n",
       "      <td>333</td>\n",
       "    </tr>\n",
       "    <tr>\n",
       "      <th>1</th>\n",
       "      <td>0</td>\n",
       "      <td>Fall</td>\n",
       "      <td>Friday</td>\n",
       "      <td>Member</td>\n",
       "      <td>730</td>\n",
       "    </tr>\n",
       "    <tr>\n",
       "      <th>2</th>\n",
       "      <td>0</td>\n",
       "      <td>Fall</td>\n",
       "      <td>Monday</td>\n",
       "      <td>Casual</td>\n",
       "      <td>488</td>\n",
       "    </tr>\n",
       "    <tr>\n",
       "      <th>3</th>\n",
       "      <td>0</td>\n",
       "      <td>Fall</td>\n",
       "      <td>Monday</td>\n",
       "      <td>Member</td>\n",
       "      <td>502</td>\n",
       "    </tr>\n",
       "    <tr>\n",
       "      <th>4</th>\n",
       "      <td>0</td>\n",
       "      <td>Fall</td>\n",
       "      <td>Saturday</td>\n",
       "      <td>Casual</td>\n",
       "      <td>621</td>\n",
       "    </tr>\n",
       "    <tr>\n",
       "      <th>...</th>\n",
       "      <td>...</td>\n",
       "      <td>...</td>\n",
       "      <td>...</td>\n",
       "      <td>...</td>\n",
       "      <td>...</td>\n",
       "    </tr>\n",
       "    <tr>\n",
       "      <th>1339</th>\n",
       "      <td>23</td>\n",
       "      <td>Winter</td>\n",
       "      <td>Thursday</td>\n",
       "      <td>Member</td>\n",
       "      <td>1274</td>\n",
       "    </tr>\n",
       "    <tr>\n",
       "      <th>1340</th>\n",
       "      <td>23</td>\n",
       "      <td>Winter</td>\n",
       "      <td>Tuesday</td>\n",
       "      <td>Casual</td>\n",
       "      <td>193</td>\n",
       "    </tr>\n",
       "    <tr>\n",
       "      <th>1341</th>\n",
       "      <td>23</td>\n",
       "      <td>Winter</td>\n",
       "      <td>Tuesday</td>\n",
       "      <td>Member</td>\n",
       "      <td>1074</td>\n",
       "    </tr>\n",
       "    <tr>\n",
       "      <th>1342</th>\n",
       "      <td>23</td>\n",
       "      <td>Winter</td>\n",
       "      <td>Wednesday</td>\n",
       "      <td>Casual</td>\n",
       "      <td>246</td>\n",
       "    </tr>\n",
       "    <tr>\n",
       "      <th>1343</th>\n",
       "      <td>23</td>\n",
       "      <td>Winter</td>\n",
       "      <td>Wednesday</td>\n",
       "      <td>Member</td>\n",
       "      <td>1134</td>\n",
       "    </tr>\n",
       "  </tbody>\n",
       "</table>\n",
       "<p>1344 rows × 5 columns</p>\n",
       "</div>"
      ],
      "text/plain": [
       "      Hour  Season        Day Membertype  Duration\n",
       "0        0    Fall     Friday     Casual       333\n",
       "1        0    Fall     Friday     Member       730\n",
       "2        0    Fall     Monday     Casual       488\n",
       "3        0    Fall     Monday     Member       502\n",
       "4        0    Fall   Saturday     Casual       621\n",
       "...    ...     ...        ...        ...       ...\n",
       "1339    23  Winter   Thursday     Member      1274\n",
       "1340    23  Winter    Tuesday     Casual       193\n",
       "1341    23  Winter    Tuesday     Member      1074\n",
       "1342    23  Winter  Wednesday     Casual       246\n",
       "1343    23  Winter  Wednesday     Member      1134\n",
       "\n",
       "[1344 rows x 5 columns]"
      ]
     },
     "execution_count": 14,
     "metadata": {},
     "output_type": "execute_result"
    }
   ],
   "source": [
    "df1"
   ]
  },
  {
   "cell_type": "code",
   "execution_count": 15,
   "metadata": {},
   "outputs": [],
   "source": [
    "df2 = df1.rename(columns = {'Duration':'Rider Count'})"
   ]
  },
  {
   "cell_type": "code",
   "execution_count": 16,
   "metadata": {},
   "outputs": [
    {
     "data": {
      "text/html": [
       "<div>\n",
       "<style scoped>\n",
       "    .dataframe tbody tr th:only-of-type {\n",
       "        vertical-align: middle;\n",
       "    }\n",
       "\n",
       "    .dataframe tbody tr th {\n",
       "        vertical-align: top;\n",
       "    }\n",
       "\n",
       "    .dataframe thead th {\n",
       "        text-align: right;\n",
       "    }\n",
       "</style>\n",
       "<table border=\"1\" class=\"dataframe\">\n",
       "  <thead>\n",
       "    <tr style=\"text-align: right;\">\n",
       "      <th></th>\n",
       "      <th>Hour</th>\n",
       "      <th>Season</th>\n",
       "      <th>Day</th>\n",
       "      <th>Membertype</th>\n",
       "      <th>Rider Count</th>\n",
       "    </tr>\n",
       "  </thead>\n",
       "  <tbody>\n",
       "    <tr>\n",
       "      <th>0</th>\n",
       "      <td>0</td>\n",
       "      <td>Fall</td>\n",
       "      <td>Friday</td>\n",
       "      <td>Casual</td>\n",
       "      <td>333</td>\n",
       "    </tr>\n",
       "    <tr>\n",
       "      <th>1</th>\n",
       "      <td>0</td>\n",
       "      <td>Fall</td>\n",
       "      <td>Friday</td>\n",
       "      <td>Member</td>\n",
       "      <td>730</td>\n",
       "    </tr>\n",
       "    <tr>\n",
       "      <th>2</th>\n",
       "      <td>0</td>\n",
       "      <td>Fall</td>\n",
       "      <td>Monday</td>\n",
       "      <td>Casual</td>\n",
       "      <td>488</td>\n",
       "    </tr>\n",
       "    <tr>\n",
       "      <th>3</th>\n",
       "      <td>0</td>\n",
       "      <td>Fall</td>\n",
       "      <td>Monday</td>\n",
       "      <td>Member</td>\n",
       "      <td>502</td>\n",
       "    </tr>\n",
       "    <tr>\n",
       "      <th>4</th>\n",
       "      <td>0</td>\n",
       "      <td>Fall</td>\n",
       "      <td>Saturday</td>\n",
       "      <td>Casual</td>\n",
       "      <td>621</td>\n",
       "    </tr>\n",
       "  </tbody>\n",
       "</table>\n",
       "</div>"
      ],
      "text/plain": [
       "   Hour Season       Day Membertype  Rider Count\n",
       "0     0   Fall    Friday     Casual          333\n",
       "1     0   Fall    Friday     Member          730\n",
       "2     0   Fall    Monday     Casual          488\n",
       "3     0   Fall    Monday     Member          502\n",
       "4     0   Fall  Saturday     Casual          621"
      ]
     },
     "execution_count": 16,
     "metadata": {},
     "output_type": "execute_result"
    }
   ],
   "source": [
    "df2.head()"
   ]
  },
  {
   "cell_type": "code",
   "execution_count": 17,
   "metadata": {},
   "outputs": [],
   "source": [
    "for column in ['Season', 'Day','Membertype']:\n",
    "    df2[column]=df2[column].astype(\"category\")"
   ]
  },
  {
   "cell_type": "code",
   "execution_count": 18,
   "metadata": {},
   "outputs": [
    {
     "name": "stdout",
     "output_type": "stream",
     "text": [
      "<class 'pandas.core.frame.DataFrame'>\n",
      "RangeIndex: 1344 entries, 0 to 1343\n",
      "Data columns (total 5 columns):\n",
      "Hour           1344 non-null int64\n",
      "Season         1344 non-null category\n",
      "Day            1344 non-null category\n",
      "Membertype     1344 non-null category\n",
      "Rider Count    1344 non-null int64\n",
      "dtypes: category(3), int64(2)\n",
      "memory usage: 25.7 KB\n"
     ]
    }
   ],
   "source": [
    "df2.info()"
   ]
  },
  {
   "cell_type": "code",
   "execution_count": 19,
   "metadata": {},
   "outputs": [
    {
     "data": {
      "text/plain": [
       "array(['Spring', 'Summer', 'Fall', 'Winter'], dtype=object)"
      ]
     },
     "execution_count": 19,
     "metadata": {},
     "output_type": "execute_result"
    }
   ],
   "source": [
    "df['Season'].unique()"
   ]
  },
  {
   "cell_type": "code",
   "execution_count": 20,
   "metadata": {},
   "outputs": [
    {
     "data": {
      "text/plain": [
       "array(['Sunday', 'Monday', 'Tuesday', 'Wednesday', 'Thursday', 'Friday',\n",
       "       'Saturday'], dtype=object)"
      ]
     },
     "execution_count": 20,
     "metadata": {},
     "output_type": "execute_result"
    }
   ],
   "source": [
    "df['Day'].unique()"
   ]
  },
  {
   "cell_type": "code",
   "execution_count": 86,
   "metadata": {},
   "outputs": [
    {
     "data": {
      "text/plain": [
       "array(['Member', 'Casual'], dtype=object)"
      ]
     },
     "execution_count": 86,
     "metadata": {},
     "output_type": "execute_result"
    }
   ],
   "source": [
    "df['Membertype'].unique()"
   ]
  },
  {
   "cell_type": "code",
   "execution_count": 21,
   "metadata": {},
   "outputs": [],
   "source": [
    "mapping = {\"Spring\": 1, \"Summer\":2, \"Fall\":3, \"Winter\": 4}\n",
    "df2['Season'] = df2['Season'].replace(mapping).astype(np.float64)"
   ]
  },
  {
   "cell_type": "code",
   "execution_count": 22,
   "metadata": {},
   "outputs": [],
   "source": [
    "mapping2 = {\"Monday\": 1, \"Tuesday\":2, \"Wednesday\":3, \"Thursday\": 4, \"Friday\": 5, \"Saturday\": 6, \"Sunday\": 7}\n",
    "df2['Day'] = df2['Day'].replace(mapping2).astype(np.float64)"
   ]
  },
  {
   "cell_type": "code",
   "execution_count": 23,
   "metadata": {},
   "outputs": [],
   "source": [
    "mapping3 = {\"Member\": 1, \"Casual\":0}\n",
    "df2['Membertype'] = df2['Membertype'].replace(mapping3).astype(np.float64)"
   ]
  },
  {
   "cell_type": "code",
   "execution_count": 25,
   "metadata": {},
   "outputs": [],
   "source": [
    "#independent variables\n",
    "X=df2.drop('Rider Count',axis=1)\n",
    "#dependent variable\n",
    "y=df2['Rider Count']"
   ]
  },
  {
   "cell_type": "code",
   "execution_count": 33,
   "metadata": {},
   "outputs": [],
   "source": [
    "from sklearn.model_selection import train_test_split\n",
    "X_train,X_test,y_train,y_test=train_test_split(X,y,test_size=0.3)"
   ]
  },
  {
   "cell_type": "code",
   "execution_count": 32,
   "metadata": {},
   "outputs": [
    {
     "data": {
      "text/plain": [
       "0.2995057380289555"
      ]
     },
     "execution_count": 32,
     "metadata": {},
     "output_type": "execute_result"
    }
   ],
   "source": [
    "from sklearn.linear_model import LinearRegression\n",
    "linearreg=LinearRegression()\n",
    "linearreg.fit(X_train,y_train)\n",
    "predictions=linearreg.predict(X_test)\n",
    "from sklearn.metrics import r2_score\n",
    "r2_score(y_test,predictions)"
   ]
  },
  {
   "cell_type": "code",
   "execution_count": 31,
   "metadata": {},
   "outputs": [
    {
     "name": "stdout",
     "output_type": "stream",
     "text": [
      "The accuracy of Decision Tree Regressor is:  0.9686934586929985\n"
     ]
    }
   ],
   "source": [
    "from sklearn.tree import DecisionTreeRegressor\n",
    "clf = DecisionTreeRegressor()\n",
    "clf.fit(X_train, y_train)\n",
    "print(\"The accuracy of Decision Tree Regressor is: \", clf.score(X_test, y_test) )"
   ]
  }
 ],
 "metadata": {
  "kernelspec": {
   "display_name": "Python 3",
   "language": "python",
   "name": "python3"
  },
  "language_info": {
   "codemirror_mode": {
    "name": "ipython",
    "version": 3
   },
   "file_extension": ".py",
   "mimetype": "text/x-python",
   "name": "python",
   "nbconvert_exporter": "python",
   "pygments_lexer": "ipython3",
   "version": "3.7.6"
  }
 },
 "nbformat": 4,
 "nbformat_minor": 2
}
